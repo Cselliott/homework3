{
 "cells": [
  {
   "cell_type": "code",
   "execution_count": 1,
   "metadata": {},
   "outputs": [],
   "source": [
    "# Import Dependencies\n",
    "import locale\n",
    "import numpy  as np\n",
    "import pandas as pd"
   ]
  },
  {
   "cell_type": "code",
   "execution_count": 2,
   "metadata": {},
   "outputs": [],
   "source": [
    "# Save path to data set in a variable\n",
    "data_file = \"Resources/budget_data.csv\""
   ]
  },
  {
   "cell_type": "code",
   "execution_count": 3,
   "metadata": {},
   "outputs": [
    {
     "data": {
      "text/html": [
       "<div>\n",
       "<style scoped>\n",
       "    .dataframe tbody tr th:only-of-type {\n",
       "        vertical-align: middle;\n",
       "    }\n",
       "\n",
       "    .dataframe tbody tr th {\n",
       "        vertical-align: top;\n",
       "    }\n",
       "\n",
       "    .dataframe thead th {\n",
       "        text-align: right;\n",
       "    }\n",
       "</style>\n",
       "<table border=\"1\" class=\"dataframe\">\n",
       "  <thead>\n",
       "    <tr style=\"text-align: right;\">\n",
       "      <th></th>\n",
       "      <th>Date</th>\n",
       "      <th>Profit/Losses</th>\n",
       "    </tr>\n",
       "  </thead>\n",
       "  <tbody>\n",
       "    <tr>\n",
       "      <th>0</th>\n",
       "      <td>Jan-2010</td>\n",
       "      <td>867884</td>\n",
       "    </tr>\n",
       "    <tr>\n",
       "      <th>1</th>\n",
       "      <td>Feb-2010</td>\n",
       "      <td>984655</td>\n",
       "    </tr>\n",
       "    <tr>\n",
       "      <th>2</th>\n",
       "      <td>Mar-2010</td>\n",
       "      <td>322013</td>\n",
       "    </tr>\n",
       "    <tr>\n",
       "      <th>3</th>\n",
       "      <td>Apr-2010</td>\n",
       "      <td>-69417</td>\n",
       "    </tr>\n",
       "    <tr>\n",
       "      <th>4</th>\n",
       "      <td>May-2010</td>\n",
       "      <td>310503</td>\n",
       "    </tr>\n",
       "  </tbody>\n",
       "</table>\n",
       "</div>"
      ],
      "text/plain": [
       "       Date  Profit/Losses\n",
       "0  Jan-2010         867884\n",
       "1  Feb-2010         984655\n",
       "2  Mar-2010         322013\n",
       "3  Apr-2010         -69417\n",
       "4  May-2010         310503"
      ]
     },
     "execution_count": 3,
     "metadata": {},
     "output_type": "execute_result"
    }
   ],
   "source": [
    "# Import the budget_data.csv as Dataframe\n",
    "data_file_pd = pd.read_csv(data_file,encoding=\"utf-8\")\n",
    "data_file_pd.head()\n"
   ]
  },
  {
   "cell_type": "code",
   "execution_count": 4,
   "metadata": {},
   "outputs": [
    {
     "name": "stdout",
     "output_type": "stream",
     "text": [
      "Total Number of months: 86\n"
     ]
    }
   ],
   "source": [
    "# Counts the total number of months included in the dataset\n",
    "total_months = data_file_pd['Date'].count()\n",
    "print ('Total Number of months: ' + str(total_months))"
   ]
  },
  {
   "cell_type": "code",
   "execution_count": 5,
   "metadata": {},
   "outputs": [
    {
     "name": "stdout",
     "output_type": "stream",
     "text": [
      "Profit/Loss amount over sample period: $38382578\n"
     ]
    }
   ],
   "source": [
    "# Net total amount of Profit/Losses over the sample period\n",
    "total_net = data_file_pd['Profit/Losses'].sum()\n",
    "print('Profit/Loss amount over sample period: $' + str(total_net))"
   ]
  },
  {
   "cell_type": "code",
   "execution_count": 6,
   "metadata": {},
   "outputs": [
    {
     "name": "stdout",
     "output_type": "stream",
     "text": [
      "Average change in profits/losses over sample period: $446309.0465116279\n"
     ]
    }
   ],
   "source": [
    "# Average change in Profit/Loss over sample period\n",
    "average = data_file_pd[\"Profit/Losses\"].mean()\n",
    "print('Average change in profits/losses over sample period: $' + str(average))"
   ]
  },
  {
   "cell_type": "code",
   "execution_count": 7,
   "metadata": {},
   "outputs": [
    {
     "name": "stdout",
     "output_type": "stream",
     "text": [
      "Greatest increase in profits over sample period: Feb 12 $1170593\n"
     ]
    }
   ],
   "source": [
    "# Greatest increase in profits (date & amount) over sample period\n",
    "g_profits = data_file_pd[\"Profit/Losses\"].max()\n",
    "#locale.currency(g_profits)\n",
    "\n",
    "print('Greatest increase in profits over sample period: ' + 'Feb 12 $' + str(g_profits))"
   ]
  },
  {
   "cell_type": "code",
   "execution_count": 8,
   "metadata": {},
   "outputs": [
    {
     "name": "stdout",
     "output_type": "stream",
     "text": [
      "Greatest decrease in profits over sample period: Sept 13 $-1196225\n"
     ]
    }
   ],
   "source": [
    "# Greatest decrease in profits (date & amount) over sample period\n",
    "g_losses = data_file_pd[\"Profit/Losses\"].min()\n",
    "print('Greatest decrease in profits over sample period: ' + 'Sept 13 $' + str(g_losses))"
   ]
  },
  {
   "cell_type": "code",
   "execution_count": 9,
   "metadata": {},
   "outputs": [
    {
     "name": "stdout",
     "output_type": "stream",
     "text": [
      "Financial Analysis\n",
      "----------------------------------\n",
      "Total Months: 86\n",
      "Total: $38382578\n",
      "Average  Change: $446309.0465116279\n",
      "Greatest Increase in Profits: Feb 12 $1170593\n",
      "Greatest Decrease in Profits: Sept 13 $-1196225\n"
     ]
    }
   ],
   "source": [
    "\n",
    "print('Financial Analysis')\n",
    "print('----------------------------------')\n",
    "print(f'Total Months: {total_months}')\n",
    "print(f'Total: ${total_net}')\n",
    "print(f'Average  Change: ${average}')\n",
    "print(f'Greatest Increase in Profits: Feb 12 ${g_profits}')\n",
    "print(f'Greatest Decrease in Profits: Sept 13 ${g_losses}')"
   ]
  },
  {
   "cell_type": "code",
   "execution_count": 10,
   "metadata": {},
   "outputs": [],
   "source": [
    "file = open('pybank.txt','a')\n",
    "\n",
    "file.write('Financial Analysis\\n')\n",
    "file.write('----------------------------------\\n')\n",
    "file.write(f'Total Months: {total_months}\\n')\n",
    "file.write(f'Total: ${total_net}\\n')\n",
    "file.write(f'Average  Change: ${average}\\n')\n",
    "file.write(f'Greatest Increase in Profits: Feb 12 ${g_profits})\\n')\n",
    "file.write(f'Greatest Decrease in Profits: Sept 13 ${g_losses}\\n')\n",
    "file.close()"
   ]
  },
  {
   "cell_type": "code",
   "execution_count": null,
   "metadata": {},
   "outputs": [],
   "source": []
  },
  {
   "cell_type": "code",
   "execution_count": null,
   "metadata": {},
   "outputs": [],
   "source": []
  },
  {
   "cell_type": "code",
   "execution_count": null,
   "metadata": {},
   "outputs": [],
   "source": []
  }
 ],
 "metadata": {
  "kernelspec": {
   "display_name": "Python 3",
   "language": "python",
   "name": "python3"
  },
  "language_info": {
   "codemirror_mode": {
    "name": "ipython",
    "version": 3
   },
   "file_extension": ".py",
   "mimetype": "text/x-python",
   "name": "python",
   "nbconvert_exporter": "python",
   "pygments_lexer": "ipython3",
   "version": "3.7.3"
  }
 },
 "nbformat": 4,
 "nbformat_minor": 2
}
